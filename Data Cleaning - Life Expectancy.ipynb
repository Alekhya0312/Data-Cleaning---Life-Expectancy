{
 "cells": [
  {
   "cell_type": "code",
   "execution_count": 72,
   "metadata": {},
   "outputs": [],
   "source": [
    "import pandas as pd\n",
    "import matplotlib.pyplot as plt\n",
    "import seaborn as sns\n",
    "import numpy as np"
   ]
  },
  {
   "cell_type": "code",
   "execution_count": 56,
   "metadata": {},
   "outputs": [],
   "source": [
    "df = pd.read_csv('C:/Users/alekh/Desktop/isds 552/LifeExpectancy.csv',encoding='latin-1')"
   ]
  },
  {
   "cell_type": "code",
   "execution_count": 57,
   "metadata": {},
   "outputs": [
    {
     "data": {
      "text/html": [
       "<div>\n",
       "<style scoped>\n",
       "    .dataframe tbody tr th:only-of-type {\n",
       "        vertical-align: middle;\n",
       "    }\n",
       "\n",
       "    .dataframe tbody tr th {\n",
       "        vertical-align: top;\n",
       "    }\n",
       "\n",
       "    .dataframe thead th {\n",
       "        text-align: right;\n",
       "    }\n",
       "</style>\n",
       "<table border=\"1\" class=\"dataframe\">\n",
       "  <thead>\n",
       "    <tr style=\"text-align: right;\">\n",
       "      <th></th>\n",
       "      <th>Life expectancy</th>\n",
       "      <th>1800</th>\n",
       "      <th>1801</th>\n",
       "      <th>1802</th>\n",
       "      <th>1803</th>\n",
       "      <th>1804</th>\n",
       "      <th>1805</th>\n",
       "      <th>1806</th>\n",
       "      <th>1807</th>\n",
       "      <th>1808</th>\n",
       "      <th>...</th>\n",
       "      <th>2007</th>\n",
       "      <th>2008</th>\n",
       "      <th>2009</th>\n",
       "      <th>2010</th>\n",
       "      <th>2011</th>\n",
       "      <th>2012</th>\n",
       "      <th>2013</th>\n",
       "      <th>2014</th>\n",
       "      <th>2015</th>\n",
       "      <th>2016</th>\n",
       "    </tr>\n",
       "  </thead>\n",
       "  <tbody>\n",
       "    <tr>\n",
       "      <th>0</th>\n",
       "      <td>Abkhazia</td>\n",
       "      <td>NaN</td>\n",
       "      <td>NaN</td>\n",
       "      <td>NaN</td>\n",
       "      <td>NaN</td>\n",
       "      <td>NaN</td>\n",
       "      <td>NaN</td>\n",
       "      <td>NaN</td>\n",
       "      <td>NaN</td>\n",
       "      <td>NaN</td>\n",
       "      <td>...</td>\n",
       "      <td>NaN</td>\n",
       "      <td>NaN</td>\n",
       "      <td>NaN</td>\n",
       "      <td>NaN</td>\n",
       "      <td>NaN</td>\n",
       "      <td>NaN</td>\n",
       "      <td>NaN</td>\n",
       "      <td>NaN</td>\n",
       "      <td>NaN</td>\n",
       "      <td>NaN</td>\n",
       "    </tr>\n",
       "    <tr>\n",
       "      <th>1</th>\n",
       "      <td>Afghanistan</td>\n",
       "      <td>28.21</td>\n",
       "      <td>28.20</td>\n",
       "      <td>28.19</td>\n",
       "      <td>28.18</td>\n",
       "      <td>28.17</td>\n",
       "      <td>28.16</td>\n",
       "      <td>28.15</td>\n",
       "      <td>28.14</td>\n",
       "      <td>28.13</td>\n",
       "      <td>...</td>\n",
       "      <td>52.4</td>\n",
       "      <td>52.8</td>\n",
       "      <td>53.3</td>\n",
       "      <td>53.6</td>\n",
       "      <td>54.0</td>\n",
       "      <td>54.4</td>\n",
       "      <td>54.8</td>\n",
       "      <td>54.9</td>\n",
       "      <td>53.8</td>\n",
       "      <td>52.72</td>\n",
       "    </tr>\n",
       "    <tr>\n",
       "      <th>2</th>\n",
       "      <td>Akrotiri and Dhekelia</td>\n",
       "      <td>NaN</td>\n",
       "      <td>NaN</td>\n",
       "      <td>NaN</td>\n",
       "      <td>NaN</td>\n",
       "      <td>NaN</td>\n",
       "      <td>NaN</td>\n",
       "      <td>NaN</td>\n",
       "      <td>NaN</td>\n",
       "      <td>NaN</td>\n",
       "      <td>...</td>\n",
       "      <td>NaN</td>\n",
       "      <td>NaN</td>\n",
       "      <td>NaN</td>\n",
       "      <td>NaN</td>\n",
       "      <td>NaN</td>\n",
       "      <td>NaN</td>\n",
       "      <td>NaN</td>\n",
       "      <td>NaN</td>\n",
       "      <td>NaN</td>\n",
       "      <td>NaN</td>\n",
       "    </tr>\n",
       "    <tr>\n",
       "      <th>3</th>\n",
       "      <td>Albania</td>\n",
       "      <td>35.40</td>\n",
       "      <td>35.40</td>\n",
       "      <td>35.40</td>\n",
       "      <td>35.40</td>\n",
       "      <td>35.40</td>\n",
       "      <td>35.40</td>\n",
       "      <td>35.40</td>\n",
       "      <td>35.40</td>\n",
       "      <td>35.40</td>\n",
       "      <td>...</td>\n",
       "      <td>76.6</td>\n",
       "      <td>76.8</td>\n",
       "      <td>77.0</td>\n",
       "      <td>77.2</td>\n",
       "      <td>77.4</td>\n",
       "      <td>77.5</td>\n",
       "      <td>77.7</td>\n",
       "      <td>77.9</td>\n",
       "      <td>78.0</td>\n",
       "      <td>78.10</td>\n",
       "    </tr>\n",
       "    <tr>\n",
       "      <th>4</th>\n",
       "      <td>Algeria</td>\n",
       "      <td>28.82</td>\n",
       "      <td>28.82</td>\n",
       "      <td>28.82</td>\n",
       "      <td>28.82</td>\n",
       "      <td>28.82</td>\n",
       "      <td>28.82</td>\n",
       "      <td>28.82</td>\n",
       "      <td>28.82</td>\n",
       "      <td>28.82</td>\n",
       "      <td>...</td>\n",
       "      <td>75.3</td>\n",
       "      <td>75.5</td>\n",
       "      <td>75.7</td>\n",
       "      <td>76.0</td>\n",
       "      <td>76.1</td>\n",
       "      <td>76.2</td>\n",
       "      <td>76.3</td>\n",
       "      <td>76.3</td>\n",
       "      <td>76.4</td>\n",
       "      <td>76.50</td>\n",
       "    </tr>\n",
       "  </tbody>\n",
       "</table>\n",
       "<p>5 rows × 218 columns</p>\n",
       "</div>"
      ],
      "text/plain": [
       "         Life expectancy   1800   1801   1802   1803   1804   1805   1806  \\\n",
       "0               Abkhazia    NaN    NaN    NaN    NaN    NaN    NaN    NaN   \n",
       "1            Afghanistan  28.21  28.20  28.19  28.18  28.17  28.16  28.15   \n",
       "2  Akrotiri and Dhekelia    NaN    NaN    NaN    NaN    NaN    NaN    NaN   \n",
       "3                Albania  35.40  35.40  35.40  35.40  35.40  35.40  35.40   \n",
       "4                Algeria  28.82  28.82  28.82  28.82  28.82  28.82  28.82   \n",
       "\n",
       "    1807   1808  ...  2007  2008  2009  2010  2011  2012  2013  2014  2015  \\\n",
       "0    NaN    NaN  ...   NaN   NaN   NaN   NaN   NaN   NaN   NaN   NaN   NaN   \n",
       "1  28.14  28.13  ...  52.4  52.8  53.3  53.6  54.0  54.4  54.8  54.9  53.8   \n",
       "2    NaN    NaN  ...   NaN   NaN   NaN   NaN   NaN   NaN   NaN   NaN   NaN   \n",
       "3  35.40  35.40  ...  76.6  76.8  77.0  77.2  77.4  77.5  77.7  77.9  78.0   \n",
       "4  28.82  28.82  ...  75.3  75.5  75.7  76.0  76.1  76.2  76.3  76.3  76.4   \n",
       "\n",
       "    2016  \n",
       "0    NaN  \n",
       "1  52.72  \n",
       "2    NaN  \n",
       "3  78.10  \n",
       "4  76.50  \n",
       "\n",
       "[5 rows x 218 columns]"
      ]
     },
     "execution_count": 57,
     "metadata": {},
     "output_type": "execute_result"
    }
   ],
   "source": [
    "df.head()"
   ]
  },
  {
   "cell_type": "code",
   "execution_count": 58,
   "metadata": {},
   "outputs": [
    {
     "data": {
      "text/plain": [
       "(260, 218)"
      ]
     },
     "execution_count": 58,
     "metadata": {},
     "output_type": "execute_result"
    }
   ],
   "source": [
    "df.shape"
   ]
  },
  {
   "cell_type": "code",
   "execution_count": 59,
   "metadata": {},
   "outputs": [
    {
     "data": {
      "text/html": [
       "<div>\n",
       "<style scoped>\n",
       "    .dataframe tbody tr th:only-of-type {\n",
       "        vertical-align: middle;\n",
       "    }\n",
       "\n",
       "    .dataframe tbody tr th {\n",
       "        vertical-align: top;\n",
       "    }\n",
       "\n",
       "    .dataframe thead th {\n",
       "        text-align: right;\n",
       "    }\n",
       "</style>\n",
       "<table border=\"1\" class=\"dataframe\">\n",
       "  <thead>\n",
       "    <tr style=\"text-align: right;\">\n",
       "      <th></th>\n",
       "      <th>Life expectancy</th>\n",
       "      <th>1800</th>\n",
       "      <th>1801</th>\n",
       "      <th>1802</th>\n",
       "      <th>1803</th>\n",
       "      <th>1804</th>\n",
       "      <th>1805</th>\n",
       "      <th>1806</th>\n",
       "      <th>1807</th>\n",
       "      <th>1808</th>\n",
       "      <th>...</th>\n",
       "      <th>2007</th>\n",
       "      <th>2008</th>\n",
       "      <th>2009</th>\n",
       "      <th>2010</th>\n",
       "      <th>2011</th>\n",
       "      <th>2012</th>\n",
       "      <th>2013</th>\n",
       "      <th>2014</th>\n",
       "      <th>2015</th>\n",
       "      <th>2016</th>\n",
       "    </tr>\n",
       "  </thead>\n",
       "  <tbody>\n",
       "    <tr>\n",
       "      <th>255</th>\n",
       "      <td>Yugoslavia</td>\n",
       "      <td>NaN</td>\n",
       "      <td>NaN</td>\n",
       "      <td>NaN</td>\n",
       "      <td>NaN</td>\n",
       "      <td>NaN</td>\n",
       "      <td>NaN</td>\n",
       "      <td>NaN</td>\n",
       "      <td>NaN</td>\n",
       "      <td>NaN</td>\n",
       "      <td>...</td>\n",
       "      <td>NaN</td>\n",
       "      <td>NaN</td>\n",
       "      <td>NaN</td>\n",
       "      <td>NaN</td>\n",
       "      <td>NaN</td>\n",
       "      <td>NaN</td>\n",
       "      <td>NaN</td>\n",
       "      <td>NaN</td>\n",
       "      <td>NaN</td>\n",
       "      <td>NaN</td>\n",
       "    </tr>\n",
       "    <tr>\n",
       "      <th>256</th>\n",
       "      <td>Zambia</td>\n",
       "      <td>32.60</td>\n",
       "      <td>32.60</td>\n",
       "      <td>32.60</td>\n",
       "      <td>32.60</td>\n",
       "      <td>32.60</td>\n",
       "      <td>32.60</td>\n",
       "      <td>32.60</td>\n",
       "      <td>32.60</td>\n",
       "      <td>32.60</td>\n",
       "      <td>...</td>\n",
       "      <td>49.0</td>\n",
       "      <td>51.1</td>\n",
       "      <td>52.3</td>\n",
       "      <td>53.1</td>\n",
       "      <td>53.7</td>\n",
       "      <td>54.7</td>\n",
       "      <td>55.6</td>\n",
       "      <td>56.3</td>\n",
       "      <td>56.7</td>\n",
       "      <td>57.10</td>\n",
       "    </tr>\n",
       "    <tr>\n",
       "      <th>257</th>\n",
       "      <td>Zimbabwe</td>\n",
       "      <td>33.70</td>\n",
       "      <td>33.70</td>\n",
       "      <td>33.70</td>\n",
       "      <td>33.70</td>\n",
       "      <td>33.70</td>\n",
       "      <td>33.70</td>\n",
       "      <td>33.70</td>\n",
       "      <td>33.70</td>\n",
       "      <td>33.70</td>\n",
       "      <td>...</td>\n",
       "      <td>46.4</td>\n",
       "      <td>47.3</td>\n",
       "      <td>48.0</td>\n",
       "      <td>49.1</td>\n",
       "      <td>51.6</td>\n",
       "      <td>54.2</td>\n",
       "      <td>55.7</td>\n",
       "      <td>57.0</td>\n",
       "      <td>59.3</td>\n",
       "      <td>61.69</td>\n",
       "    </tr>\n",
       "    <tr>\n",
       "      <th>258</th>\n",
       "      <td>Åland</td>\n",
       "      <td>NaN</td>\n",
       "      <td>NaN</td>\n",
       "      <td>NaN</td>\n",
       "      <td>NaN</td>\n",
       "      <td>NaN</td>\n",
       "      <td>NaN</td>\n",
       "      <td>NaN</td>\n",
       "      <td>NaN</td>\n",
       "      <td>NaN</td>\n",
       "      <td>...</td>\n",
       "      <td>NaN</td>\n",
       "      <td>NaN</td>\n",
       "      <td>NaN</td>\n",
       "      <td>NaN</td>\n",
       "      <td>NaN</td>\n",
       "      <td>NaN</td>\n",
       "      <td>NaN</td>\n",
       "      <td>NaN</td>\n",
       "      <td>NaN</td>\n",
       "      <td>NaN</td>\n",
       "    </tr>\n",
       "    <tr>\n",
       "      <th>259</th>\n",
       "      <td>South Sudan</td>\n",
       "      <td>26.67</td>\n",
       "      <td>26.67</td>\n",
       "      <td>26.67</td>\n",
       "      <td>26.67</td>\n",
       "      <td>26.67</td>\n",
       "      <td>26.67</td>\n",
       "      <td>26.67</td>\n",
       "      <td>26.67</td>\n",
       "      <td>26.67</td>\n",
       "      <td>...</td>\n",
       "      <td>55.5</td>\n",
       "      <td>55.6</td>\n",
       "      <td>55.8</td>\n",
       "      <td>56.0</td>\n",
       "      <td>55.9</td>\n",
       "      <td>56.0</td>\n",
       "      <td>56.0</td>\n",
       "      <td>56.1</td>\n",
       "      <td>56.1</td>\n",
       "      <td>56.10</td>\n",
       "    </tr>\n",
       "  </tbody>\n",
       "</table>\n",
       "<p>5 rows × 218 columns</p>\n",
       "</div>"
      ],
      "text/plain": [
       "    Life expectancy   1800   1801   1802   1803   1804   1805   1806   1807  \\\n",
       "255      Yugoslavia    NaN    NaN    NaN    NaN    NaN    NaN    NaN    NaN   \n",
       "256          Zambia  32.60  32.60  32.60  32.60  32.60  32.60  32.60  32.60   \n",
       "257        Zimbabwe  33.70  33.70  33.70  33.70  33.70  33.70  33.70  33.70   \n",
       "258           Åland    NaN    NaN    NaN    NaN    NaN    NaN    NaN    NaN   \n",
       "259     South Sudan  26.67  26.67  26.67  26.67  26.67  26.67  26.67  26.67   \n",
       "\n",
       "      1808  ...  2007  2008  2009  2010  2011  2012  2013  2014  2015   2016  \n",
       "255    NaN  ...   NaN   NaN   NaN   NaN   NaN   NaN   NaN   NaN   NaN    NaN  \n",
       "256  32.60  ...  49.0  51.1  52.3  53.1  53.7  54.7  55.6  56.3  56.7  57.10  \n",
       "257  33.70  ...  46.4  47.3  48.0  49.1  51.6  54.2  55.7  57.0  59.3  61.69  \n",
       "258    NaN  ...   NaN   NaN   NaN   NaN   NaN   NaN   NaN   NaN   NaN    NaN  \n",
       "259  26.67  ...  55.5  55.6  55.8  56.0  55.9  56.0  56.0  56.1  56.1  56.10  \n",
       "\n",
       "[5 rows x 218 columns]"
      ]
     },
     "execution_count": 59,
     "metadata": {},
     "output_type": "execute_result"
    }
   ],
   "source": [
    "df.tail()"
   ]
  },
  {
   "cell_type": "code",
   "execution_count": 60,
   "metadata": {},
   "outputs": [
    {
     "name": "stdout",
     "output_type": "stream",
     "text": [
      "<class 'pandas.core.frame.DataFrame'>\n",
      "RangeIndex: 260 entries, 0 to 259\n",
      "Columns: 218 entries, Life expectancy to 2016\n",
      "dtypes: float64(217), object(1)\n",
      "memory usage: 442.9+ KB\n"
     ]
    }
   ],
   "source": [
    "df.info()"
   ]
  },
  {
   "cell_type": "code",
   "execution_count": 61,
   "metadata": {},
   "outputs": [],
   "source": [
    "df.rename(columns={'Life expectancy':'Country'}, inplace=True)"
   ]
  },
  {
   "cell_type": "code",
   "execution_count": 62,
   "metadata": {},
   "outputs": [
    {
     "name": "stdout",
     "output_type": "stream",
     "text": [
      "Nan in row  0  :  217\n",
      "Nan in row  1  :  0\n",
      "Nan in row  2  :  217\n",
      "Nan in row  3  :  0\n",
      "Nan in row  4  :  0\n",
      "Nan in row  5  :  190\n",
      "Nan in row  6  :  190\n",
      "Nan in row  7  :  0\n",
      "Nan in row  8  :  217\n",
      "Nan in row  9  :  0\n",
      "Nan in row  10  :  0\n",
      "Nan in row  11  :  0\n",
      "Nan in row  12  :  0\n",
      "Nan in row  13  :  0\n",
      "Nan in row  14  :  0\n",
      "Nan in row  15  :  0\n",
      "Nan in row  16  :  0\n",
      "Nan in row  17  :  0\n",
      "Nan in row  18  :  0\n",
      "Nan in row  19  :  0\n",
      "Nan in row  20  :  0\n",
      "Nan in row  21  :  0\n",
      "Nan in row  22  :  0\n",
      "Nan in row  23  :  0\n",
      "Nan in row  24  :  190\n",
      "Nan in row  25  :  0\n",
      "Nan in row  26  :  0\n",
      "Nan in row  27  :  0\n",
      "Nan in row  28  :  0\n",
      "Nan in row  29  :  0\n",
      "Nan in row  30  :  217\n",
      "Nan in row  31  :  0\n",
      "Nan in row  32  :  0\n",
      "Nan in row  33  :  0\n",
      "Nan in row  34  :  0\n",
      "Nan in row  35  :  0\n",
      "Nan in row  36  :  0\n",
      "Nan in row  37  :  0\n",
      "Nan in row  38  :  0\n",
      "Nan in row  39  :  217\n",
      "Nan in row  40  :  0\n",
      "Nan in row  41  :  0\n",
      "Nan in row  42  :  150\n",
      "Nan in row  43  :  0\n",
      "Nan in row  44  :  0\n",
      "Nan in row  45  :  217\n",
      "Nan in row  46  :  217\n",
      "Nan in row  47  :  0\n",
      "Nan in row  48  :  0\n",
      "Nan in row  49  :  0\n",
      "Nan in row  50  :  0\n",
      "Nan in row  51  :  217\n",
      "Nan in row  52  :  0\n",
      "Nan in row  53  :  0\n",
      "Nan in row  54  :  0\n",
      "Nan in row  55  :  0\n",
      "Nan in row  56  :  0\n",
      "Nan in row  57  :  0\n",
      "Nan in row  58  :  217\n",
      "Nan in row  59  :  0\n",
      "Nan in row  60  :  0\n",
      "Nan in row  61  :  190\n",
      "Nan in row  62  :  0\n",
      "Nan in row  63  :  217\n",
      "Nan in row  64  :  0\n",
      "Nan in row  65  :  0\n",
      "Nan in row  66  :  0\n",
      "Nan in row  67  :  0\n",
      "Nan in row  68  :  0\n",
      "Nan in row  69  :  217\n",
      "Nan in row  70  :  0\n",
      "Nan in row  71  :  0\n",
      "Nan in row  72  :  217\n",
      "Nan in row  73  :  217\n",
      "Nan in row  74  :  0\n",
      "Nan in row  75  :  0\n",
      "Nan in row  76  :  0\n",
      "Nan in row  77  :  0\n",
      "Nan in row  78  :  0\n",
      "Nan in row  79  :  0\n",
      "Nan in row  80  :  0\n",
      "Nan in row  81  :  0\n",
      "Nan in row  82  :  0\n",
      "Nan in row  83  :  0\n",
      "Nan in row  84  :  217\n",
      "Nan in row  85  :  0\n",
      "Nan in row  86  :  0\n",
      "Nan in row  87  :  0\n",
      "Nan in row  88  :  0\n",
      "Nan in row  89  :  0\n",
      "Nan in row  90  :  0\n",
      "Nan in row  91  :  217\n",
      "Nan in row  92  :  0\n",
      "Nan in row  93  :  0\n",
      "Nan in row  94  :  0\n",
      "Nan in row  95  :  0\n",
      "Nan in row  96  :  217\n",
      "Nan in row  97  :  0\n",
      "Nan in row  98  :  0\n",
      "Nan in row  99  :  0\n",
      "Nan in row  100  :  0\n",
      "Nan in row  101  :  0\n",
      "Nan in row  102  :  0\n",
      "Nan in row  103  :  0\n",
      "Nan in row  104  :  0\n",
      "Nan in row  105  :  0\n",
      "Nan in row  106  :  217\n",
      "Nan in row  107  :  0\n",
      "Nan in row  108  :  0\n",
      "Nan in row  109  :  0\n",
      "Nan in row  110  :  0\n",
      "Nan in row  111  :  217\n",
      "Nan in row  112  :  0\n",
      "Nan in row  113  :  0\n",
      "Nan in row  114  :  0\n",
      "Nan in row  115  :  0\n",
      "Nan in row  116  :  0\n",
      "Nan in row  117  :  0\n",
      "Nan in row  118  :  217\n",
      "Nan in row  119  :  217\n",
      "Nan in row  120  :  0\n",
      "Nan in row  121  :  0\n",
      "Nan in row  122  :  0\n",
      "Nan in row  123  :  0\n",
      "Nan in row  124  :  0\n",
      "Nan in row  125  :  0\n",
      "Nan in row  126  :  0\n",
      "Nan in row  127  :  0\n",
      "Nan in row  128  :  217\n",
      "Nan in row  129  :  0\n",
      "Nan in row  130  :  0\n",
      "Nan in row  131  :  0\n",
      "Nan in row  132  :  0\n",
      "Nan in row  133  :  0\n",
      "Nan in row  134  :  0\n",
      "Nan in row  135  :  0\n",
      "Nan in row  136  :  0\n",
      "Nan in row  137  :  0\n",
      "Nan in row  138  :  0\n",
      "Nan in row  139  :  190\n",
      "Nan in row  140  :  0\n",
      "Nan in row  141  :  0\n",
      "Nan in row  142  :  0\n",
      "Nan in row  143  :  0\n",
      "Nan in row  144  :  0\n",
      "Nan in row  145  :  0\n",
      "Nan in row  146  :  0\n",
      "Nan in row  147  :  217\n",
      "Nan in row  148  :  0\n",
      "Nan in row  149  :  0\n",
      "Nan in row  150  :  217\n",
      "Nan in row  151  :  0\n",
      "Nan in row  152  :  0\n",
      "Nan in row  153  :  0\n",
      "Nan in row  154  :  0\n",
      "Nan in row  155  :  217\n",
      "Nan in row  156  :  0\n",
      "Nan in row  157  :  0\n",
      "Nan in row  158  :  0\n",
      "Nan in row  159  :  0\n",
      "Nan in row  160  :  0\n",
      "Nan in row  161  :  217\n",
      "Nan in row  162  :  0\n",
      "Nan in row  163  :  0\n",
      "Nan in row  164  :  0\n",
      "Nan in row  165  :  217\n",
      "Nan in row  166  :  217\n",
      "Nan in row  167  :  217\n",
      "Nan in row  168  :  190\n",
      "Nan in row  169  :  0\n",
      "Nan in row  170  :  0\n",
      "Nan in row  171  :  0\n",
      "Nan in row  172  :  217\n",
      "Nan in row  173  :  0\n",
      "Nan in row  174  :  0\n",
      "Nan in row  175  :  0\n",
      "Nan in row  176  :  0\n",
      "Nan in row  177  :  0\n",
      "Nan in row  178  :  217\n",
      "Nan in row  179  :  0\n",
      "Nan in row  180  :  0\n",
      "Nan in row  181  :  0\n",
      "Nan in row  182  :  0\n",
      "Nan in row  183  :  0\n",
      "Nan in row  184  :  0\n",
      "Nan in row  185  :  0\n",
      "Nan in row  186  :  0\n",
      "Nan in row  187  :  217\n",
      "Nan in row  188  :  217\n",
      "Nan in row  189  :  217\n",
      "Nan in row  190  :  0\n",
      "Nan in row  191  :  217\n",
      "Nan in row  192  :  0\n",
      "Nan in row  193  :  217\n",
      "Nan in row  194  :  0\n",
      "Nan in row  195  :  217\n",
      "Nan in row  196  :  0\n",
      "Nan in row  197  :  0\n",
      "Nan in row  198  :  0\n",
      "Nan in row  199  :  0\n",
      "Nan in row  200  :  217\n",
      "Nan in row  201  :  217\n",
      "Nan in row  202  :  0\n",
      "Nan in row  203  :  0\n",
      "Nan in row  204  :  0\n",
      "Nan in row  205  :  0\n",
      "Nan in row  206  :  0\n",
      "Nan in row  207  :  0\n",
      "Nan in row  208  :  0\n",
      "Nan in row  209  :  217\n",
      "Nan in row  210  :  0\n",
      "Nan in row  211  :  217\n",
      "Nan in row  212  :  0\n",
      "Nan in row  213  :  0\n",
      "Nan in row  214  :  0\n",
      "Nan in row  215  :  0\n",
      "Nan in row  216  :  217\n",
      "Nan in row  217  :  0\n",
      "Nan in row  218  :  0\n",
      "Nan in row  219  :  0\n",
      "Nan in row  220  :  0\n",
      "Nan in row  221  :  0\n",
      "Nan in row  222  :  0\n",
      "Nan in row  223  :  0\n",
      "Nan in row  224  :  0\n",
      "Nan in row  225  :  0\n",
      "Nan in row  226  :  0\n",
      "Nan in row  227  :  216\n",
      "Nan in row  228  :  0\n",
      "Nan in row  229  :  217\n",
      "Nan in row  230  :  0\n",
      "Nan in row  231  :  0\n",
      "Nan in row  232  :  0\n",
      "Nan in row  233  :  0\n",
      "Nan in row  234  :  217\n",
      "Nan in row  235  :  217\n",
      "Nan in row  236  :  0\n",
      "Nan in row  237  :  0\n",
      "Nan in row  238  :  0\n",
      "Nan in row  239  :  0\n",
      "Nan in row  240  :  0\n",
      "Nan in row  241  :  0\n",
      "Nan in row  242  :  217\n",
      "Nan in row  243  :  0\n",
      "Nan in row  244  :  217\n",
      "Nan in row  245  :  0\n",
      "Nan in row  246  :  0\n",
      "Nan in row  247  :  0\n",
      "Nan in row  248  :  217\n",
      "Nan in row  249  :  0\n",
      "Nan in row  250  :  0\n",
      "Nan in row  251  :  0\n",
      "Nan in row  252  :  217\n",
      "Nan in row  253  :  217\n",
      "Nan in row  254  :  0\n",
      "Nan in row  255  :  217\n",
      "Nan in row  256  :  0\n",
      "Nan in row  257  :  0\n",
      "Nan in row  258  :  207\n",
      "Nan in row  259  :  0\n"
     ]
    }
   ],
   "source": [
    "for i in range(len(df.index)) :\n",
    "    print(\"Nan in row \", i , \" : \" ,  df.iloc[i].isnull().sum())"
   ]
  },
  {
   "cell_type": "code",
   "execution_count": 63,
   "metadata": {},
   "outputs": [],
   "source": [
    "df = df.dropna()"
   ]
  },
  {
   "cell_type": "code",
   "execution_count": 64,
   "metadata": {},
   "outputs": [],
   "source": [
    "df_melt = pd.melt(df, id_vars='Country',var_name='Year',value_name='LifeExpectancy')"
   ]
  },
  {
   "cell_type": "code",
   "execution_count": 65,
   "metadata": {},
   "outputs": [
    {
     "data": {
      "text/html": [
       "<div>\n",
       "<style scoped>\n",
       "    .dataframe tbody tr th:only-of-type {\n",
       "        vertical-align: middle;\n",
       "    }\n",
       "\n",
       "    .dataframe tbody tr th {\n",
       "        vertical-align: top;\n",
       "    }\n",
       "\n",
       "    .dataframe thead th {\n",
       "        text-align: right;\n",
       "    }\n",
       "</style>\n",
       "<table border=\"1\" class=\"dataframe\">\n",
       "  <thead>\n",
       "    <tr style=\"text-align: right;\">\n",
       "      <th></th>\n",
       "      <th>Country</th>\n",
       "      <th>Year</th>\n",
       "      <th>LifeExpectancy</th>\n",
       "    </tr>\n",
       "  </thead>\n",
       "  <tbody>\n",
       "    <tr>\n",
       "      <th>0</th>\n",
       "      <td>Afghanistan</td>\n",
       "      <td>1800</td>\n",
       "      <td>28.21</td>\n",
       "    </tr>\n",
       "    <tr>\n",
       "      <th>1</th>\n",
       "      <td>Albania</td>\n",
       "      <td>1800</td>\n",
       "      <td>35.40</td>\n",
       "    </tr>\n",
       "    <tr>\n",
       "      <th>2</th>\n",
       "      <td>Algeria</td>\n",
       "      <td>1800</td>\n",
       "      <td>28.82</td>\n",
       "    </tr>\n",
       "    <tr>\n",
       "      <th>3</th>\n",
       "      <td>Angola</td>\n",
       "      <td>1800</td>\n",
       "      <td>26.98</td>\n",
       "    </tr>\n",
       "    <tr>\n",
       "      <th>4</th>\n",
       "      <td>Antigua and Barbuda</td>\n",
       "      <td>1800</td>\n",
       "      <td>33.54</td>\n",
       "    </tr>\n",
       "  </tbody>\n",
       "</table>\n",
       "</div>"
      ],
      "text/plain": [
       "               Country  Year  LifeExpectancy\n",
       "0          Afghanistan  1800           28.21\n",
       "1              Albania  1800           35.40\n",
       "2              Algeria  1800           28.82\n",
       "3               Angola  1800           26.98\n",
       "4  Antigua and Barbuda  1800           33.54"
      ]
     },
     "execution_count": 65,
     "metadata": {},
     "output_type": "execute_result"
    }
   ],
   "source": [
    "df_melt.head()"
   ]
  },
  {
   "cell_type": "code",
   "execution_count": 66,
   "metadata": {},
   "outputs": [
    {
     "data": {
      "text/plain": [
       "Country            object\n",
       "Year               object\n",
       "LifeExpectancy    float64\n",
       "dtype: object"
      ]
     },
     "execution_count": 66,
     "metadata": {},
     "output_type": "execute_result"
    }
   ],
   "source": [
    "df_melt.dtypes"
   ]
  },
  {
   "cell_type": "code",
   "execution_count": 74,
   "metadata": {},
   "outputs": [],
   "source": [
    "df_melt['Year'] = pd.to_numeric(df_melt['Year'],errors='coerce')\n",
    "assert df_melt['Year'].dtypes == np.int64"
   ]
  },
  {
   "cell_type": "code",
   "execution_count": 78,
   "metadata": {},
   "outputs": [
    {
     "name": "stdout",
     "output_type": "stream",
     "text": [
      "38          Congo, Dem. Rep.\n",
      "39               Congo, Rep.\n",
      "41             Cote d'Ivoire\n",
      "73             Guinea-Bissau\n",
      "77          Hong Kong, China\n",
      "105             Macao, China\n",
      "106           Macedonia, FYR\n",
      "118    Micronesia, Fed. Sts.\n",
      "177              Timor-Leste\n",
      "196    Virgin Islands (U.S.)\n",
      "Name: Country, dtype: object\n"
     ]
    }
   ],
   "source": [
    "#Looking at country spellings\n",
    "# Create the series of countries: countries\n",
    "countries = df_melt['Country']\n",
    "# Drop all the duplicates from countries\n",
    "countries = countries.drop_duplicates()\n",
    "# Write the regular expression: pattern\n",
    "pattern = '^[A-Za-z\\.\\s]*$'\n",
    "# Create the Boolean vector: mask\n",
    "mask = countries.str.contains(pattern)\n",
    "# Invert the mask: mask_inverse\n",
    "mask_inverse = ~mask\n",
    "# Subset countries using mask_inverse: invalid_countries\n",
    "invalid_countries = countries.loc[mask_inverse]\n",
    "# Print invalid_countries\n",
    "print(invalid_countries)"
   ]
  },
  {
   "cell_type": "code",
   "execution_count": 84,
   "metadata": {},
   "outputs": [
    {
     "name": "stdout",
     "output_type": "stream",
     "text": [
      "Year\n",
      "1800    31.486020\n",
      "1801    31.448905\n",
      "1802    31.463483\n",
      "1803    31.377413\n",
      "1804    31.446318\n",
      "Name: LifeExpectancy, dtype: float64\n",
      "Year\n",
      "2012    71.514577\n",
      "2013    71.774776\n",
      "2014    71.950050\n",
      "2015    72.187861\n",
      "2016    72.428507\n",
      "Name: LifeExpectancy, dtype: float64\n"
     ]
    },
    {
     "data": {
      "image/png": "[encoded data removed]",
      "text/plain": [
       "<Figure size 432x288 with 2 Axes>"
      ]
     },
     "metadata": {
      "needs_background": "light"
     },
     "output_type": "display_data"
    }
   ],
   "source": [
    "# Add first subplot\n",
    "plt.subplot(2, 1, 1) \n",
    "\n",
    "# Create a histogram of life_expectancy\n",
    "df_melt['LifeExpectancy'].plot(kind='hist')\n",
    "\n",
    "# Group gapminder: gapminder_agg\n",
    "df_agg = df_melt.groupby('Year')['LifeExpectancy'].mean()\n",
    "\n",
    "# Print the head of gapminder_agg\n",
    "print(df_agg.head())\n",
    "\n",
    "# Print the tail of gapminder_agg\n",
    "print(df_agg.tail())\n",
    "\n",
    "# Add second subplot\n",
    "plt.subplot(2, 1, 2)\n",
    "\n",
    "# Create a line plot of life expectancy per year\n",
    "df_agg.plot()\n",
    "\n",
    "# Add title and specify axis labels\n",
    "plt.title('Life expectancy over the years')\n",
    "plt.ylabel('Life expectancy')\n",
    "plt.xlabel('Year')\n",
    "\n",
    "# Display the plots\n",
    "plt.tight_layout()\n",
    "plt.show()"
   ]
  },
  {
   "cell_type": "code",
   "execution_count": 85,
   "metadata": {},
   "outputs": [
    {
     "data": {
      "text/plain": [
       "<matplotlib.axes._subplots.AxesSubplot at 0x19224db5748>"
      ]
     },
     "execution_count": 85,
     "metadata": {},
     "output_type": "execute_result"
    },
    {
     "data": {
      "image/png": "[encoded data removed]",
      "text/plain": [
       "<Figure size 432x288 with 1 Axes>"
      ]
     },
     "metadata": {
      "needs_background": "light"
     },
     "output_type": "display_data"
    }
   ],
   "source": [
    "# Create a histogram of life_expectancy\n",
    "df_melt['LifeExpectancy'].plot(kind='hist')"
   ]
  },
  {
   "cell_type": "code",
   "execution_count": 86,
   "metadata": {},
   "outputs": [
    {
     "data": {
      "text/plain": [
       "0                   Afghanistan\n",
       "1                       Albania\n",
       "2                       Algeria\n",
       "3                        Angola\n",
       "4           Antigua and Barbuda\n",
       "5                     Argentina\n",
       "6                       Armenia\n",
       "7                         Aruba\n",
       "8                     Australia\n",
       "9                       Austria\n",
       "10                   Azerbaijan\n",
       "11                      Bahamas\n",
       "12                      Bahrain\n",
       "13                   Bangladesh\n",
       "14                     Barbados\n",
       "15                      Belarus\n",
       "16                      Belgium\n",
       "17                       Belize\n",
       "18                        Benin\n",
       "19                       Bhutan\n",
       "20                      Bolivia\n",
       "21       Bosnia and Herzegovina\n",
       "22                     Botswana\n",
       "23                       Brazil\n",
       "24                       Brunei\n",
       "25                     Bulgaria\n",
       "26                 Burkina Faso\n",
       "27                      Burundi\n",
       "28                     Cambodia\n",
       "29                     Cameroon\n",
       "                  ...          \n",
       "43587               Switzerland\n",
       "43588                     Syria\n",
       "43589                    Taiwan\n",
       "43590                Tajikistan\n",
       "43591                  Tanzania\n",
       "43592                  Thailand\n",
       "43593               Timor-Leste\n",
       "43594                      Togo\n",
       "43595                     Tonga\n",
       "43596       Trinidad and Tobago\n",
       "43597                   Tunisia\n",
       "43598                    Turkey\n",
       "43599              Turkmenistan\n",
       "43600                    Uganda\n",
       "43601                   Ukraine\n",
       "43602      United Arab Emirates\n",
       "43603            United Kingdom\n",
       "43604             United States\n",
       "43605                   Uruguay\n",
       "43606                Uzbekistan\n",
       "43607                   Vanuatu\n",
       "43608                 Venezuela\n",
       "43609        West Bank and Gaza\n",
       "43610            Western Sahara\n",
       "43611                   Vietnam\n",
       "43612     Virgin Islands (U.S.)\n",
       "43613                     Yemen\n",
       "43614                    Zambia\n",
       "43615                  Zimbabwe\n",
       "43616               South Sudan\n",
       "Name: Country, Length: 43617, dtype: object"
      ]
     },
     "execution_count": 86,
     "metadata": {},
     "output_type": "execute_result"
    }
   ],
   "source": [
    "df_melt[\"Country\"].unique()"
   ]
  },
  {
   "cell_type": "code",
   "execution_count": 88,
   "metadata": {},
   "outputs": [
    {
     "data": {
      "text/plain": [
       "(43617, 3)"
      ]
     },
     "execution_count": 88,
     "metadata": {},
     "output_type": "execute_result"
    }
   ],
   "source": [
    "df_melt.shape"
   ]
  },
  {
   "cell_type": "code",
   "execution_count": 90,
   "metadata": {},
   "outputs": [
    {
     "data": {
      "text/plain": [
       "(201, 218)"
      ]
     },
     "execution_count": 90,
     "metadata": {},
     "output_type": "execute_result"
    }
   ],
   "source": [
    "df.shape"
   ]
  },
  {
   "cell_type": "code",
   "execution_count": 91,
   "metadata": {},
   "outputs": [],
   "source": [
    "continent = pd.read_csv('C:/Users/alekh/Desktop/countryContinent.csv')"
   ]
  },
  {
   "cell_type": "code",
   "execution_count": 92,
   "metadata": {},
   "outputs": [],
   "source": [
    "df_merge = pd.merge(left=df_melt, right=continent, left_on='Country', right_on='Country Name')"
   ]
  },
  {
   "cell_type": "code",
   "execution_count": 99,
   "metadata": {},
   "outputs": [
    {
     "data": {
      "text/plain": [
       "0"
      ]
     },
     "execution_count": 99,
     "metadata": {},
     "output_type": "execute_result"
    }
   ],
   "source": [
    "df_merge['Continent'].isnull().sum()"
   ]
  },
  {
   "cell_type": "code",
   "execution_count": 100,
   "metadata": {},
   "outputs": [
    {
     "data": {
      "text/plain": [
       "Africa      12369\n",
       "Asia        11067\n",
       "Americas     8680\n",
       "Europe       8680\n",
       "Oceania      2821\n",
       "Name: Continent, dtype: int64"
      ]
     },
     "execution_count": 100,
     "metadata": {},
     "output_type": "execute_result"
    }
   ],
   "source": [
    "df_merge['Continent'].value_counts(dropna = False) "
   ]
  },
  {
   "cell_type": "code",
   "execution_count": 102,
   "metadata": {},
   "outputs": [
    {
     "data": {
      "text/html": [
       "<div>\n",
       "<style scoped>\n",
       "    .dataframe tbody tr th:only-of-type {\n",
       "        vertical-align: middle;\n",
       "    }\n",
       "\n",
       "    .dataframe tbody tr th {\n",
       "        vertical-align: top;\n",
       "    }\n",
       "\n",
       "    .dataframe thead th {\n",
       "        text-align: right;\n",
       "    }\n",
       "</style>\n",
       "<table border=\"1\" class=\"dataframe\">\n",
       "  <thead>\n",
       "    <tr style=\"text-align: right;\">\n",
       "      <th></th>\n",
       "      <th>Country</th>\n",
       "      <th>Year</th>\n",
       "      <th>LifeExpectancy</th>\n",
       "      <th>Country Name</th>\n",
       "      <th>Continent</th>\n",
       "    </tr>\n",
       "  </thead>\n",
       "  <tbody>\n",
       "    <tr>\n",
       "      <th>0</th>\n",
       "      <td>Afghanistan</td>\n",
       "      <td>1800</td>\n",
       "      <td>28.21</td>\n",
       "      <td>Afghanistan</td>\n",
       "      <td>Asia</td>\n",
       "    </tr>\n",
       "    <tr>\n",
       "      <th>1</th>\n",
       "      <td>Afghanistan</td>\n",
       "      <td>1801</td>\n",
       "      <td>28.20</td>\n",
       "      <td>Afghanistan</td>\n",
       "      <td>Asia</td>\n",
       "    </tr>\n",
       "    <tr>\n",
       "      <th>2</th>\n",
       "      <td>Afghanistan</td>\n",
       "      <td>1802</td>\n",
       "      <td>28.19</td>\n",
       "      <td>Afghanistan</td>\n",
       "      <td>Asia</td>\n",
       "    </tr>\n",
       "    <tr>\n",
       "      <th>3</th>\n",
       "      <td>Afghanistan</td>\n",
       "      <td>1803</td>\n",
       "      <td>28.18</td>\n",
       "      <td>Afghanistan</td>\n",
       "      <td>Asia</td>\n",
       "    </tr>\n",
       "    <tr>\n",
       "      <th>4</th>\n",
       "      <td>Afghanistan</td>\n",
       "      <td>1804</td>\n",
       "      <td>28.17</td>\n",
       "      <td>Afghanistan</td>\n",
       "      <td>Asia</td>\n",
       "    </tr>\n",
       "  </tbody>\n",
       "</table>\n",
       "</div>"
      ],
      "text/plain": [
       "       Country  Year  LifeExpectancy Country Name Continent\n",
       "0  Afghanistan  1800           28.21  Afghanistan      Asia\n",
       "1  Afghanistan  1801           28.20  Afghanistan      Asia\n",
       "2  Afghanistan  1802           28.19  Afghanistan      Asia\n",
       "3  Afghanistan  1803           28.18  Afghanistan      Asia\n",
       "4  Afghanistan  1804           28.17  Afghanistan      Asia"
      ]
     },
     "execution_count": 102,
     "metadata": {},
     "output_type": "execute_result"
    }
   ],
   "source": [
    "df_merge.head()"
   ]
  },
  {
   "cell_type": "code",
   "execution_count": 108,
   "metadata": {},
   "outputs": [
    {
     "data": {
      "image/png": "[encoded data removed]",
      "text/plain": [
       "<Figure size 432x288 with 1 Axes>"
      ]
     },
     "metadata": {
      "needs_background": "light"
     },
     "output_type": "display_data"
    }
   ],
   "source": [
    "sns.lineplot(x=\"Year\", y=\"LifeExpectancy\",hue=\"Continent\", data=df_merge)\n",
    "sns.set()"
   ]
  },
  {
   "cell_type": "code",
   "execution_count": 116,
   "metadata": {},
   "outputs": [],
   "source": [
    "def year_range(year):\n",
    "    if year >= 1800 and year <= 1850:\n",
    "        return \"1800-1850\"\n",
    "    elif year > 1850 and year <= 1900:\n",
    "        return \"1851-1900\"\n",
    "    elif year >= 1900 and year <= 1950:\n",
    "        return \"1901-1950\"\n",
    "    elif year > 1950 and year <= 2000:\n",
    "        return \"1951-2000\"\n",
    "    else:\n",
    "        return \"2001-2014\""
   ]
  },
  {
   "cell_type": "code",
   "execution_count": 117,
   "metadata": {},
   "outputs": [],
   "source": [
    "df_merge['YearRange'] = df_merge['Year'].apply(year_range)"
   ]
  },
  {
   "cell_type": "code",
   "execution_count": 135,
   "metadata": {},
   "outputs": [
    {
     "data": {
      "text/plain": [
       "1800-1850    10251\n",
       "1951-2000    10050\n",
       "1851-1900    10050\n",
       "1901-1950    10050\n",
       "2001-2014     3216\n",
       "Name: YearRange, dtype: int64"
      ]
     },
     "execution_count": 135,
     "metadata": {},
     "output_type": "execute_result"
    }
   ],
   "source": [
    "df_merge['YearRange'].value_counts(dropna = False) "
   ]
  },
  {
   "cell_type": "code",
   "execution_count": 119,
   "metadata": {},
   "outputs": [
    {
     "data": {
      "text/html": [
       "<div>\n",
       "<style scoped>\n",
       "    .dataframe tbody tr th:only-of-type {\n",
       "        vertical-align: middle;\n",
       "    }\n",
       "\n",
       "    .dataframe tbody tr th {\n",
       "        vertical-align: top;\n",
       "    }\n",
       "\n",
       "    .dataframe thead th {\n",
       "        text-align: right;\n",
       "    }\n",
       "</style>\n",
       "<table border=\"1\" class=\"dataframe\">\n",
       "  <thead>\n",
       "    <tr style=\"text-align: right;\">\n",
       "      <th></th>\n",
       "      <th>Country</th>\n",
       "      <th>Year</th>\n",
       "      <th>LifeExpectancy</th>\n",
       "      <th>Country Name</th>\n",
       "      <th>Continent</th>\n",
       "      <th>YearRange</th>\n",
       "    </tr>\n",
       "  </thead>\n",
       "  <tbody>\n",
       "    <tr>\n",
       "      <th>0</th>\n",
       "      <td>Afghanistan</td>\n",
       "      <td>1800</td>\n",
       "      <td>28.21</td>\n",
       "      <td>Afghanistan</td>\n",
       "      <td>Asia</td>\n",
       "      <td>1800-1850</td>\n",
       "    </tr>\n",
       "    <tr>\n",
       "      <th>1</th>\n",
       "      <td>Afghanistan</td>\n",
       "      <td>1801</td>\n",
       "      <td>28.20</td>\n",
       "      <td>Afghanistan</td>\n",
       "      <td>Asia</td>\n",
       "      <td>1800-1850</td>\n",
       "    </tr>\n",
       "    <tr>\n",
       "      <th>2</th>\n",
       "      <td>Afghanistan</td>\n",
       "      <td>1802</td>\n",
       "      <td>28.19</td>\n",
       "      <td>Afghanistan</td>\n",
       "      <td>Asia</td>\n",
       "      <td>1800-1850</td>\n",
       "    </tr>\n",
       "    <tr>\n",
       "      <th>3</th>\n",
       "      <td>Afghanistan</td>\n",
       "      <td>1803</td>\n",
       "      <td>28.18</td>\n",
       "      <td>Afghanistan</td>\n",
       "      <td>Asia</td>\n",
       "      <td>1800-1850</td>\n",
       "    </tr>\n",
       "    <tr>\n",
       "      <th>4</th>\n",
       "      <td>Afghanistan</td>\n",
       "      <td>1804</td>\n",
       "      <td>28.17</td>\n",
       "      <td>Afghanistan</td>\n",
       "      <td>Asia</td>\n",
       "      <td>1800-1850</td>\n",
       "    </tr>\n",
       "  </tbody>\n",
       "</table>\n",
       "</div>"
      ],
      "text/plain": [
       "       Country  Year  LifeExpectancy Country Name Continent  YearRange\n",
       "0  Afghanistan  1800           28.21  Afghanistan      Asia  1800-1850\n",
       "1  Afghanistan  1801           28.20  Afghanistan      Asia  1800-1850\n",
       "2  Afghanistan  1802           28.19  Afghanistan      Asia  1800-1850\n",
       "3  Afghanistan  1803           28.18  Afghanistan      Asia  1800-1850\n",
       "4  Afghanistan  1804           28.17  Afghanistan      Asia  1800-1850"
      ]
     },
     "execution_count": 119,
     "metadata": {},
     "output_type": "execute_result"
    }
   ],
   "source": [
    "df_merge.head()"
   ]
  },
  {
   "cell_type": "code",
   "execution_count": 120,
   "metadata": {},
   "outputs": [
    {
     "data": {
      "text/html": [
       "<div>\n",
       "<style scoped>\n",
       "    .dataframe tbody tr th:only-of-type {\n",
       "        vertical-align: middle;\n",
       "    }\n",
       "\n",
       "    .dataframe tbody tr th {\n",
       "        vertical-align: top;\n",
       "    }\n",
       "\n",
       "    .dataframe thead th {\n",
       "        text-align: right;\n",
       "    }\n",
       "</style>\n",
       "<table border=\"1\" class=\"dataframe\">\n",
       "  <thead>\n",
       "    <tr style=\"text-align: right;\">\n",
       "      <th></th>\n",
       "      <th>Country</th>\n",
       "      <th>Year</th>\n",
       "      <th>LifeExpectancy</th>\n",
       "      <th>Country Name</th>\n",
       "      <th>Continent</th>\n",
       "      <th>YearRange</th>\n",
       "    </tr>\n",
       "  </thead>\n",
       "  <tbody>\n",
       "    <tr>\n",
       "      <th>43612</th>\n",
       "      <td>South Sudan</td>\n",
       "      <td>2012</td>\n",
       "      <td>56.0</td>\n",
       "      <td>South Sudan</td>\n",
       "      <td>Africa</td>\n",
       "      <td>2001-2014</td>\n",
       "    </tr>\n",
       "    <tr>\n",
       "      <th>43613</th>\n",
       "      <td>South Sudan</td>\n",
       "      <td>2013</td>\n",
       "      <td>56.0</td>\n",
       "      <td>South Sudan</td>\n",
       "      <td>Africa</td>\n",
       "      <td>2001-2014</td>\n",
       "    </tr>\n",
       "    <tr>\n",
       "      <th>43614</th>\n",
       "      <td>South Sudan</td>\n",
       "      <td>2014</td>\n",
       "      <td>56.1</td>\n",
       "      <td>South Sudan</td>\n",
       "      <td>Africa</td>\n",
       "      <td>2001-2014</td>\n",
       "    </tr>\n",
       "    <tr>\n",
       "      <th>43615</th>\n",
       "      <td>South Sudan</td>\n",
       "      <td>2015</td>\n",
       "      <td>56.1</td>\n",
       "      <td>South Sudan</td>\n",
       "      <td>Africa</td>\n",
       "      <td>2001-2014</td>\n",
       "    </tr>\n",
       "    <tr>\n",
       "      <th>43616</th>\n",
       "      <td>South Sudan</td>\n",
       "      <td>2016</td>\n",
       "      <td>56.1</td>\n",
       "      <td>South Sudan</td>\n",
       "      <td>Africa</td>\n",
       "      <td>2001-2014</td>\n",
       "    </tr>\n",
       "  </tbody>\n",
       "</table>\n",
       "</div>"
      ],
      "text/plain": [
       "           Country  Year  LifeExpectancy Country Name Continent  YearRange\n",
       "43612  South Sudan  2012            56.0  South Sudan    Africa  2001-2014\n",
       "43613  South Sudan  2013            56.0  South Sudan    Africa  2001-2014\n",
       "43614  South Sudan  2014            56.1  South Sudan    Africa  2001-2014\n",
       "43615  South Sudan  2015            56.1  South Sudan    Africa  2001-2014\n",
       "43616  South Sudan  2016            56.1  South Sudan    Africa  2001-2014"
      ]
     },
     "execution_count": 120,
     "metadata": {},
     "output_type": "execute_result"
    }
   ],
   "source": [
    "df_merge.tail()"
   ]
  },
  {
   "cell_type": "code",
   "execution_count": 145,
   "metadata": {},
   "outputs": [
    {
     "data": {
      "text/plain": [
       "<matplotlib.axes._subplots.AxesSubplot at 0x1922c922f60>"
      ]
     },
     "execution_count": 145,
     "metadata": {},
     "output_type": "execute_result"
    },
    {
     "data": {
      "image/png": "[encoded data removed]",
      "text/plain": [
       "<Figure size 432x288 with 1 Axes>"
      ]
     },
     "metadata": {},
     "output_type": "display_data"
    }
   ],
   "source": [
    "sns.boxplot(x=df_merge[\"Continent\"],y=df_merge[\"LifeExpectancy\"])"
   ]
  },
  {
   "cell_type": "code",
   "execution_count": 126,
   "metadata": {},
   "outputs": [],
   "source": [
    "df_1800_1850 = df_merge[df_merge['YearRange'] == '1800-1850']\n",
    "assert df_1800_1850['YearRange'].all() == '1800-1850'"
   ]
  },
  {
   "cell_type": "code",
   "execution_count": 143,
   "metadata": {},
   "outputs": [
    {
     "data": {
      "text/plain": [
       "<matplotlib.axes._subplots.AxesSubplot at 0x1922ca67710>"
      ]
     },
     "execution_count": 143,
     "metadata": {},
     "output_type": "execute_result"
    },
    {
     "data": {
      "image/png": "[encoded data removed]",
      "text/plain": [
       "<Figure size 432x288 with 1 Axes>"
      ]
     },
     "metadata": {},
     "output_type": "display_data"
    }
   ],
   "source": [
    "sns.boxplot(x=df_1800_1850[\"Continent\"],y=df_1800_1850[\"LifeExpectancy\"])"
   ]
  },
  {
   "cell_type": "code",
   "execution_count": 137,
   "metadata": {},
   "outputs": [],
   "source": [
    "df_1851_1900 = df_merge[df_merge['YearRange'] == '1851-1900']\n",
    "assert df_1851_1900['YearRange'].all() == '1851-1900'"
   ]
  },
  {
   "cell_type": "code",
   "execution_count": 144,
   "metadata": {},
   "outputs": [
    {
     "data": {
      "text/plain": [
       "<matplotlib.axes._subplots.AxesSubplot at 0x1922ca23fd0>"
      ]
     },
     "execution_count": 144,
     "metadata": {},
     "output_type": "execute_result"
    },
    {
     "data": {
      "image/png": "[encoded data removed]",
      "text/plain": [
       "<Figure size 432x288 with 1 Axes>"
      ]
     },
     "metadata": {},
     "output_type": "display_data"
    }
   ],
   "source": [
    "sns.boxplot(x=df_1851_1900[\"Continent\"],y=df_1851_1900[\"LifeExpectancy\"])"
   ]
  },
  {
   "cell_type": "code",
   "execution_count": 138,
   "metadata": {},
   "outputs": [],
   "source": [
    "df_1901_1950 = df_merge[df_merge['YearRange'] == '1901-1950']\n",
    "assert df_1901_1950['YearRange'].all() == '1901-1950'"
   ]
  },
  {
   "cell_type": "code",
   "execution_count": 146,
   "metadata": {},
   "outputs": [
    {
     "data": {
      "text/plain": [
       "<matplotlib.axes._subplots.AxesSubplot at 0x1922c891518>"
      ]
     },
     "execution_count": 146,
     "metadata": {},
     "output_type": "execute_result"
    },
    {
     "data": {
      "image/png": "[encoded data removed]",
      "text/plain": [
       "<Figure size 432x288 with 1 Axes>"
      ]
     },
     "metadata": {},
     "output_type": "display_data"
    }
   ],
   "source": [
    "sns.boxplot(x=df_1901_1950[\"Continent\"],y=df_1901_1950[\"LifeExpectancy\"])"
   ]
  },
  {
   "cell_type": "code",
   "execution_count": 139,
   "metadata": {},
   "outputs": [],
   "source": [
    "df_1951_2000 = df_merge[df_merge['YearRange'] == '1951-2000']\n",
    "assert df_1951_2000['YearRange'].all() == '1951-2000'"
   ]
  },
  {
   "cell_type": "code",
   "execution_count": 147,
   "metadata": {},
   "outputs": [
    {
     "data": {
      "text/plain": [
       "<matplotlib.axes._subplots.AxesSubplot at 0x1922c7ab978>"
      ]
     },
     "execution_count": 147,
     "metadata": {},
     "output_type": "execute_result"
    },
    {
     "data": {
      "image/png": "[encoded data removed]",
      "text/plain": [
       "<Figure size 432x288 with 1 Axes>"
      ]
     },
     "metadata": {},
     "output_type": "display_data"
    }
   ],
   "source": [
    "sns.boxplot(x=df_1951_2000[\"Continent\"],y=df_1951_2000[\"LifeExpectancy\"])"
   ]
  },
  {
   "cell_type": "code",
   "execution_count": 141,
   "metadata": {},
   "outputs": [],
   "source": [
    "df_2001_2014 = df_merge[df_merge['YearRange'] == '2001-2014']\n",
    "assert df_2001_2014['YearRange'].all() == '2001-2014'"
   ]
  },
  {
   "cell_type": "code",
   "execution_count": 148,
   "metadata": {},
   "outputs": [
    {
     "data": {
      "text/plain": [
       "<matplotlib.axes._subplots.AxesSubplot at 0x1922c7532e8>"
      ]
     },
     "execution_count": 148,
     "metadata": {},
     "output_type": "execute_result"
    },
    {
     "data": {
      "image/png": "[encoded data removed]",
      "text/plain": [
       "<Figure size 432x288 with 1 Axes>"
      ]
     },
     "metadata": {},
     "output_type": "display_data"
    }
   ],
   "source": [
    "sns.boxplot(x=df_2001_2014[\"Continent\"],y=df_2001_2014[\"LifeExpectancy\"])"
   ]
  },
  {
   "cell_type": "code",
   "execution_count": null,
   "metadata": {},
   "outputs": [],
   "source": []
  }
 ],
 "metadata": {
  "kernelspec": {
   "display_name": "Python 3",
   "language": "python",
   "name": "python3"
  },
  "language_info": {
   "codemirror_mode": {
    "name": "ipython",
    "version": 3
   },
   "file_extension": ".py",
   "mimetype": "text/x-python",
   "name": "python",
   "nbconvert_exporter": "python",
   "pygments_lexer": "ipython3",
   "version": "3.7.3"
  }
 },
 "nbformat": 4,
 "nbformat_minor": 2
}
